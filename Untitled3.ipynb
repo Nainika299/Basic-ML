{
  "nbformat": 4,
  "nbformat_minor": 0,
  "metadata": {
    "colab": {
      "name": "Untitled3.ipynb",
      "provenance": [],
      "authorship_tag": "ABX9TyPow4PH/E8bg8FyY9n3b5UJ",
      "include_colab_link": true
    },
    "kernelspec": {
      "name": "python3",
      "display_name": "Python 3"
    },
    "language_info": {
      "name": "python"
    }
  },
  "cells": [
    {
      "cell_type": "markdown",
      "metadata": {
        "id": "view-in-github",
        "colab_type": "text"
      },
      "source": [
        "<a href=\"https://colab.research.google.com/github/Nainika299/Basic-ML/blob/main/Untitled3.ipynb\" target=\"_parent\"><img src=\"https://colab.research.google.com/assets/colab-badge.svg\" alt=\"Open In Colab\"/></a>"
      ]
    },
    {
      "cell_type": "markdown",
      "metadata": {
        "id": "EWMIRR9f9dw2"
      },
      "source": [
        "Python program's"
      ]
    },
    {
      "cell_type": "markdown",
      "metadata": {
        "id": "SD815ezJ9f0p"
      },
      "source": [
        "1.To find given number is odd or even"
      ]
    },
    {
      "cell_type": "code",
      "metadata": {
        "id": "WvFJJMja9ksG"
      },
      "source": [
        " \n",
        "n=int(input())\n",
        "if n%2==0:\n",
        "    print(\"even\")\n",
        "else:\n",
        "    print(\"odd\")"
      ],
      "execution_count": null,
      "outputs": []
    },
    {
      "cell_type": "markdown",
      "metadata": {
        "id": "4oEbnvN69oqS"
      },
      "source": [
        "2.To find the sum of given numbers"
      ]
    },
    {
      "cell_type": "code",
      "metadata": {
        "id": "jlJZ9M6Y9v8m"
      },
      "source": [
        " \n",
        "n=int(input())\n",
        "sum=0\n",
        "while(n!=0):\n",
        "  rem=n%10\n",
        "  sum=sum+rem\n",
        "  n=n//10\n",
        "print(sum)"
      ],
      "execution_count": null,
      "outputs": []
    },
    {
      "cell_type": "markdown",
      "metadata": {
        "id": "7wM_ltWN90J7"
      },
      "source": [
        "3.To find the factorial for given number"
      ]
    },
    {
      "cell_type": "code",
      "metadata": {
        "id": "eC0e9WfS97fn"
      },
      "source": [
        " \n",
        "n=int(input())\n",
        "sum=0\n",
        "while(n!=0):\n",
        "  rem=n%10\n",
        "  sum=sum+rem\n",
        "  n=n//10\n",
        "print(sum)"
      ],
      "execution_count": null,
      "outputs": []
    }
  ]
}